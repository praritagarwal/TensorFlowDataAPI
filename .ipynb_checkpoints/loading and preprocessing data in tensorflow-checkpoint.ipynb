{
 "cells": [
  {
   "cell_type": "markdown",
   "metadata": {},
   "source": [
    "In this notebook we will practice how to load and preprocess data using tensorflow's data API. \n",
    "\n",
    "Also, see the following official [guide](https://www.tensorflow.org/guide/data#basic_mechanics)"
   ]
  },
  {
   "cell_type": "markdown",
   "metadata": {},
   "source": [
    "## Excercise 1\n",
    "\n",
    "This is excercise 13.9 in [this](https://www.oreilly.com/library/view/hands-on-machine-learning/9781492032632/) book: \n",
    "\n",
    "### Problem statement:\n",
    "\n",
    "Load the Fashion MNIST dataset; split it into a training set, a validation set, and a test set; shuffle the training set; and save each dataset to multiple TFRecord files. Each record should be a serialized Example protobuf with two features: the serialized image (use tf.io.serialize_tensor() to serialize each image), and the label. Then use tf.data to create an efficient dataset for each set. Finally, use a Keras model to train these datasets, including a preprocessing layer to standardize each input feature. Try to make the input pipeline as efficient as possible, using TensorBoard to visualize profiling data."
   ]
  },
  {
   "cell_type": "code",
   "execution_count": 1,
   "metadata": {},
   "outputs": [
    {
     "name": "stdout",
     "output_type": "stream",
     "text": [
      "tensorflow version:2.1.0\n",
      "keras version: 2.2.4-tf\n"
     ]
    }
   ],
   "source": [
    "import tensorflow as tf\n",
    "from tensorflow import keras\n",
    "print('tensorflow version:{}'.format(tf.__version__))\n",
    "print('keras version: {}'.format(keras.__version__))\n",
    "\n",
    "import numpy as np"
   ]
  },
  {
   "cell_type": "code",
   "execution_count": 2,
   "metadata": {},
   "outputs": [],
   "source": [
    "# import fashion-MNIST dataset\n",
    "fashion_mnist = keras.datasets.fashion_mnist \n",
    "# the above is the fashion_mnist module\n",
    "# call fashion_mnist.load_data() to download the data using the above module\n",
    "# fashion_mnist.load_data returns one tuple of training images and their labels, and another tuple of test images and their labels\n",
    "(X_train_full, y_train_full), (X_test, y_test) = fashion_mnist.load_data()"
   ]
  },
  {
   "cell_type": "code",
   "execution_count": 3,
   "metadata": {},
   "outputs": [
    {
     "name": "stdout",
     "output_type": "stream",
     "text": [
      "number of images in training set: 60000\n",
      "number of images in test set: 10000\n"
     ]
    }
   ],
   "source": [
    "print('number of images in training set: {}'.format(len(X_train_full)))\n",
    "print('number of images in test set: {}'.format(len(X_test)))"
   ]
  },
  {
   "cell_type": "code",
   "execution_count": 4,
   "metadata": {},
   "outputs": [
    {
     "name": "stdout",
     "output_type": "stream",
     "text": [
      "X_train_full is of type: <class 'numpy.ndarray'>\n",
      "y_train_full is of type: <class 'numpy.ndarray'>\n"
     ]
    }
   ],
   "source": [
    "# the images are stored as numpy arrays\n",
    "print('X_train_full is of type: {}'.format(type(X_train_full)))\n",
    "print('y_train_full is of type: {}'.format(type(y_train_full)))"
   ]
  },
  {
   "cell_type": "code",
   "execution_count": 5,
   "metadata": {},
   "outputs": [
    {
     "name": "stdout",
     "output_type": "stream",
     "text": [
      "shape of X_train_full:(60000, 28, 28)\n",
      "minimum pixel value: 0\n",
      "maximum pixel value: 255\n"
     ]
    }
   ],
   "source": [
    "print('shape of X_train_full:{}'.format(X_train_full.shape))\n",
    "print('minimum pixel value: {}'.format(X_train_full.min()))\n",
    "print('maximum pixel value: {}'.format(X_train_full.max()))"
   ]
  },
  {
   "cell_type": "code",
   "execution_count": 6,
   "metadata": {},
   "outputs": [],
   "source": [
    "# split X_train_full into a training set and a validation set\n",
    "num_val = 10000 # number of instances in validation set\n",
    "X_val, X_train = X_train_full[:num_val], X_train_full[num_val:]\n",
    "y_val, y_train = y_train_full[:num_val], y_train_full[num_val:]"
   ]
  },
  {
   "cell_type": "code",
   "execution_count": 7,
   "metadata": {},
   "outputs": [],
   "source": [
    "class_names = [\"T-shirt/top\", \"Trouser\", \"Pullover\", \"Dress\", \n",
    "               \"Coat\", \"Sandal\", \"Shirt\", \"Sneaker\", \"Bag\", \"Ankle boot\"]"
   ]
  },
  {
   "cell_type": "code",
   "execution_count": 8,
   "metadata": {},
   "outputs": [],
   "source": [
    "import matplotlib.pyplot as plt"
   ]
  },
  {
   "cell_type": "code",
   "execution_count": 9,
   "metadata": {},
   "outputs": [
    {
     "data": {
      "image/png": "[encoded data removed]",
      "text/plain": [
       "<Figure size 432x288 with 1 Axes>"
      ]
     },
     "metadata": {
      "needs_background": "light"
     },
     "output_type": "display_data"
    }
   ],
   "source": [
    "idx = 90\n",
    "plt.figure()\n",
    "plt.imshow(X_train[idx]/255.0)\n",
    "plt.title(class_names[y_train[idx]])\n",
    "plt.show()"
   ]
  },
  {
   "cell_type": "code",
   "execution_count": 10,
   "metadata": {},
   "outputs": [
    {
     "name": "stdout",
     "output_type": "stream",
     "text": [
      "specs of train_imgs: (TensorSpec(shape=(28, 28), dtype=tf.uint8, name=None), TensorSpec(shape=(), dtype=tf.uint8, name=None))\n",
      "specs of val_imgs: (TensorSpec(shape=(28, 28), dtype=tf.uint8, name=None), TensorSpec(shape=(), dtype=tf.uint8, name=None))\n",
      "specs of test_imgs: (TensorSpec(shape=(28, 28), dtype=tf.uint8, name=None), TensorSpec(shape=(), dtype=tf.uint8, name=None))\n"
     ]
    }
   ],
   "source": [
    "# create tensorflow datasets from training, validation and test images\n",
    "train_imgs = tf.data.Dataset.from_tensor_slices((X_train, y_train))\n",
    "val_imgs = tf.data.Dataset.from_tensor_slices((X_val, y_val))\n",
    "test_imgs = tf.data.Dataset.from_tensor_slices((X_test, y_test))\n",
    "print('specs of train_imgs: {}'.format(train_imgs.element_spec))\n",
    "print('specs of val_imgs: {}'.format(val_imgs.element_spec))\n",
    "print('specs of test_imgs: {}'.format(test_imgs.element_spec))"
   ]
  },
  {
   "cell_type": "code",
   "execution_count": 11,
   "metadata": {},
   "outputs": [],
   "source": [
    "# shuffle the training set\n",
    "seed = 42\n",
    "buffer_size = 5000\n",
    "train_shuffle = train_imgs.shuffle(buffer_size = buffer_size, seed = seed)"
   ]
  },
  {
   "cell_type": "code",
   "execution_count": 12,
   "metadata": {},
   "outputs": [],
   "source": [
    "# function to convert an individual record from the dataset into a serialized Example protobuf\n",
    "def to_Example_protobuf(record):\n",
    "    '''Convert a record to a serialized Example protobuf. The record is assumed to be a tuple with the first entry being a tensor and the second entry being its label\n",
    "    '''\n",
    "    \n",
    "    # convert the first entry of the record i.e. the image, to a Feature class\n",
    "    # tensors should be converted to binary strings first\n",
    "    bin_string = tf.io.serialize_tensor(record[0]).numpy()\n",
    "    # since it is a string we can only store it as a BytesList but NOT as a FloatList or Int64List\n",
    "    bytes_list = tf.train.BytesList(value = [bin_string]) # note that the value in BytesList has to be a list\n",
    "    # convert the above BytesList to a Feature\n",
    "    img = tf.train.Feature(bytes_list = bytes_list)\n",
    "    \n",
    "    # convert the second entry in the record i.e. the image-label to a Feature class\n",
    "    # note that label are integers, so can be stored as Int64List\n",
    "    int64_list = tf.train.Int64List(value = [record[1].numpy()])\n",
    "    lbl = tf.train.Feature(int64_list = int64_list)\n",
    "    \n",
    "    # now add img and lbl, as obtained above, to a dictionary \n",
    "    # then use it to create an instance of the Features class\n",
    "    feature = {'img': img, 'lbl': lbl}\n",
    "    features = tf.train.Features(feature = feature)\n",
    "    \n",
    "    # use the features object above, to create an Example\n",
    "    example = tf.train.Example(features = features)\n",
    "    \n",
    "    return example\n",
    "    "
   ]
  },
  {
   "cell_type": "code",
   "execution_count": 13,
   "metadata": {},
   "outputs": [],
   "source": [
    "# function to read a serialized Example protobuf object created by to_Example_protobuf\n",
    "# and convert it to a tuple of tensor corresponding to an image and its label\n",
    "def from_Example_protobuf(example):\n",
    "    \n",
    "    out_type = tf.uint8 # the img tensor had type tf.unint8 before we converted it to Example using to_Example_protobuf\n",
    "    img = tf.io.parse_tensor(example.features.feature['img'].bytes_list.value[0], out_type = out_type)\n",
    "    \n",
    "    lbl = tf.convert_to_tensor(example.features.feature['lbl'].int64_list.value[0], dtype = tf.uint8)\n",
    "    return img, lbl"
   ]
  },
  {
   "cell_type": "markdown",
   "metadata": {},
   "source": [
    "### Test to_Example_protobuf and from_Example_protobuf"
   ]
  },
  {
   "cell_type": "code",
   "execution_count": 14,
   "metadata": {},
   "outputs": [],
   "source": [
    "# extract a record from train_shuffle\n",
    "itr = iter(train_shuffle)\n",
    "item = next(itr)"
   ]
  },
  {
   "cell_type": "code",
   "execution_count": 15,
   "metadata": {},
   "outputs": [
    {
     "name": "stdout",
     "output_type": "stream",
     "text": [
      "image data was converted to Example and converted back faithfully: True\n",
      "label data was converted to Example and converted back faithfully: True\n"
     ]
    }
   ],
   "source": [
    "# convert the record to Example \n",
    "ex = to_Example_protobuf(item)\n",
    "\n",
    "# re-obtain the record from the Example protobuf and check its validity\n",
    "img, lbl = from_Example_protobuf(ex)\n",
    "\n",
    "# check the validity of img, lbl\n",
    "print('image data was converted to Example and converted back faithfully: {}'.format(tf.math.reduce_all(img == item[0])))\n",
    "print('label data was converted to Example and converted back faithfully: {}'.format(tf.math.reduce_all(lbl == item[1])))"
   ]
  },
  {
   "cell_type": "markdown",
   "metadata": {},
   "source": [
    "### Store data in TFRecord file"
   ]
  },
  {
   "cell_type": "code",
   "execution_count": 16,
   "metadata": {},
   "outputs": [],
   "source": [
    "# we will create a compressed TFRecord file\n",
    "filename = 'my_first_TFRecord_file.tfrecord'\n",
    "compression = tf.io.TFRecordOptions(compression_type = 'GZIP') # this is optional\n",
    "itm_array = []"
   ]
  },
  {
   "cell_type": "code",
   "execution_count": 17,
   "metadata": {},
   "outputs": [],
   "source": [
    "with tf.io.TFRecordWriter(filename, compression) as f:\n",
    "    for _ in range(3):\n",
    "        item = next(itr)\n",
    "        itm_array.append(item)\n",
    "        example = to_Example_protobuf(item)\n",
    "        f.write(example.SerializeToString()) # have to serialize the protobuf to string in order to write it to a file"
   ]
  },
  {
   "cell_type": "code",
   "execution_count": 18,
   "metadata": {},
   "outputs": [
    {
     "data": {
      "text/plain": [
       "3"
      ]
     },
     "execution_count": 18,
     "metadata": {},
     "output_type": "execute_result"
    }
   ],
   "source": [
    "len(itm_array)"
   ]
  },
  {
   "cell_type": "code",
   "execution_count": 19,
   "metadata": {},
   "outputs": [],
   "source": [
    "feature_description = {\n",
    "    'img': tf.io.FixedLenFeature([], tf.string, default_value = '' ),\n",
    "    'lbl': tf.io.FixedLenFeature([], tf.int64, default_value = 0)\n",
    "}"
   ]
  },
  {
   "cell_type": "code",
   "execution_count": 20,
   "metadata": {},
   "outputs": [],
   "source": [
    "parsed_ex_array = []\n",
    "\n",
    "for serialized_example in tf.data.TFRecordDataset([filename], compression_type = 'GZIP'):\n",
    "    parsed_example = tf.io.parse_single_example(serialized_example, feature_description)\n",
    "    parsed_ex_array.append(parsed_example)"
   ]
  },
  {
   "cell_type": "code",
   "execution_count": 21,
   "metadata": {},
   "outputs": [
    {
     "name": "stdout",
     "output_type": "stream",
     "text": [
      "img tensor was written faithfully: True\n",
      "label was written faithfully: True\n",
      "img tensor was written faithfully: True\n",
      "label was written faithfully: True\n",
      "img tensor was written faithfully: True\n",
      "label was written faithfully: True\n"
     ]
    }
   ],
   "source": [
    "for ctr in range(3):\n",
    "    img = tf.io.parse_tensor(parsed_ex_array[ctr]['img'].numpy(), out_type = tf.uint8)\n",
    "    lbl = tf.dtypes.cast(parsed_ex_array[ctr]['lbl'], tf.uint8)\n",
    "    print('img tensor was written faithfully: {}'.format(\n",
    "        tf.math.reduce_all(img == itm_array[ctr][0])))\n",
    "    print('label was written faithfully: {}'.format(\n",
    "        tf.math.reduce_all( lbl == itm_array[ctr][1])))"
   ]
  },
  {
   "cell_type": "code",
   "execution_count": null,
   "metadata": {},
   "outputs": [],
   "source": []
  }
 ],
 "metadata": {
  "kernelspec": {
   "display_name": "Python [conda env:tensorflow]",
   "language": "python",
   "name": "conda-env-tensorflow-py"
  },
  "language_info": {
   "codemirror_mode": {
    "name": "ipython",
    "version": 3
   },
   "file_extension": ".py",
   "mimetype": "text/x-python",
   "name": "python",
   "nbconvert_exporter": "python",
   "pygments_lexer": "ipython3",
   "version": "3.7.6"
  }
 },
 "nbformat": 4,
 "nbformat_minor": 2
}
