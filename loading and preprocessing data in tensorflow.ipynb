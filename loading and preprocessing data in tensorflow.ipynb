{
 "cells": [
  {
   "cell_type": "markdown",
   "metadata": {},
   "source": [
    "In this notebook we will practice how to load and preprocess data using tensorflow's data API. \n",
    "\n",
    "Also, see the following official [guide](https://www.tensorflow.org/guide/data#basic_mechanics)"
   ]
  },
  {
   "cell_type": "markdown",
   "metadata": {},
   "source": [
    "## Excercise 1\n",
    "\n",
    "This is excercise 13.9 in [this](https://www.oreilly.com/library/view/hands-on-machine-learning/9781492032632/) book: \n",
    "\n",
    "### Problem statement:\n",
    "\n",
    "Load the Fashion MNIST dataset; split it into a training set, a validation set, and a test set; shuffle the training set; and save each dataset to multiple TFRecord files. Each record should be a serialized Example protobuf with two features: the serialized image (use tf.io.serialize_tensor() to serialize each image), and the label. Then use tf.data to create an efficient dataset for each set. Finally, use a Keras model to train these datasets, including a preprocessing layer to standardize each input feature. Try to make the input pipeline as efficient as possible, using TensorBoard to visualize profiling data."
   ]
  },
  {
   "cell_type": "code",
   "execution_count": 32,
   "metadata": {},
   "outputs": [
    {
     "name": "stdout",
     "output_type": "stream",
     "text": [
      "tensorflow version:2.1.0\n",
      "keras version: 2.2.4-tf\n"
     ]
    }
   ],
   "source": [
    "import tensorflow as tf\n",
    "from tensorflow import keras\n",
    "print('tensorflow version:{}'.format(tf.__version__))\n",
    "print('keras version: {}'.format(keras.__version__))\n",
    "\n",
    "import numpy as np"
   ]
  },
  {
   "cell_type": "code",
   "execution_count": 33,
   "metadata": {},
   "outputs": [],
   "source": [
    "# import fashion-MNIST dataset\n",
    "fashion_mnist = keras.datasets.fashion_mnist \n",
    "# the above is the fashion_mnist module\n",
    "# call fashion_mnist.load_data() to download the data using the above module\n",
    "# fashion_mnist.load_data returns one tuple of training images and their labels, and another tuple of test images and their labels\n",
    "# by default the images are saved at '~/.keras/datasets/fashion-mnist'\n",
    "(X_train_full, y_train_full), (X_test, y_test) = fashion_mnist.load_data()"
   ]
  },
  {
   "cell_type": "code",
   "execution_count": 34,
   "metadata": {},
   "outputs": [
    {
     "name": "stdout",
     "output_type": "stream",
     "text": [
      "number of images in training set: 60000\n",
      "number of images in test set: 10000\n"
     ]
    }
   ],
   "source": [
    "print('number of images in training set: {}'.format(len(X_train_full)))\n",
    "print('number of images in test set: {}'.format(len(X_test)))"
   ]
  },
  {
   "cell_type": "code",
   "execution_count": 35,
   "metadata": {},
   "outputs": [
    {
     "name": "stdout",
     "output_type": "stream",
     "text": [
      "X_train_full is of type: <class 'numpy.ndarray'>\n",
      "y_train_full is of type: <class 'numpy.ndarray'>\n"
     ]
    }
   ],
   "source": [
    "# the images are stored as numpy arrays\n",
    "print('X_train_full is of type: {}'.format(type(X_train_full)))\n",
    "print('y_train_full is of type: {}'.format(type(y_train_full)))"
   ]
  },
  {
   "cell_type": "code",
   "execution_count": 36,
   "metadata": {},
   "outputs": [
    {
     "name": "stdout",
     "output_type": "stream",
     "text": [
      "shape of X_train_full:(60000, 28, 28)\n",
      "minimum pixel value: 0\n",
      "maximum pixel value: 255\n"
     ]
    }
   ],
   "source": [
    "print('shape of X_train_full:{}'.format(X_train_full.shape))\n",
    "print('minimum pixel value: {}'.format(X_train_full.min()))\n",
    "print('maximum pixel value: {}'.format(X_train_full.max()))"
   ]
  },
  {
   "cell_type": "code",
   "execution_count": 37,
   "metadata": {},
   "outputs": [],
   "source": [
    "# split X_train_full into a training set and a validation set\n",
    "num_val = 10000 # number of instances in validation set\n",
    "X_val, X_train = X_train_full[:num_val], X_train_full[num_val:]\n",
    "y_val, y_train = y_train_full[:num_val], y_train_full[num_val:]"
   ]
  },
  {
   "cell_type": "code",
   "execution_count": 38,
   "metadata": {},
   "outputs": [],
   "source": [
    "class_names = [\"T-shirt/top\", \"Trouser\", \"Pullover\", \"Dress\", \n",
    "               \"Coat\", \"Sandal\", \"Shirt\", \"Sneaker\", \"Bag\", \"Ankle boot\"]"
   ]
  },
  {
   "cell_type": "code",
   "execution_count": 39,
   "metadata": {},
   "outputs": [],
   "source": [
    "import matplotlib.pyplot as plt"
   ]
  },
  {
   "cell_type": "code",
   "execution_count": 40,
   "metadata": {},
   "outputs": [
    {
     "data": {
      "image/png": "[encoded data removed]",
      "text/plain": [
       "<Figure size 432x288 with 1 Axes>"
      ]
     },
     "metadata": {
      "needs_background": "light"
     },
     "output_type": "display_data"
    }
   ],
   "source": [
    "idx = 90\n",
    "plt.figure()\n",
    "plt.imshow(X_train[idx]/255.0)\n",
    "plt.title(class_names[y_train[idx]])\n",
    "plt.show()"
   ]
  },
  {
   "cell_type": "code",
   "execution_count": 41,
   "metadata": {},
   "outputs": [
    {
     "name": "stdout",
     "output_type": "stream",
     "text": [
      "specs of train_imgs: (TensorSpec(shape=(28, 28), dtype=tf.uint8, name=None), TensorSpec(shape=(), dtype=tf.uint8, name=None))\n",
      "specs of val_imgs: (TensorSpec(shape=(28, 28), dtype=tf.uint8, name=None), TensorSpec(shape=(), dtype=tf.uint8, name=None))\n",
      "specs of test_imgs: (TensorSpec(shape=(28, 28), dtype=tf.uint8, name=None), TensorSpec(shape=(), dtype=tf.uint8, name=None))\n"
     ]
    }
   ],
   "source": [
    "# create tensorflow datasets from training, validation and test images\n",
    "train_imgs = tf.data.Dataset.from_tensor_slices((X_train, y_train))\n",
    "val_imgs = tf.data.Dataset.from_tensor_slices((X_val, y_val))\n",
    "test_imgs = tf.data.Dataset.from_tensor_slices((X_test, y_test))\n",
    "print('specs of train_imgs: {}'.format(train_imgs.element_spec))\n",
    "print('specs of val_imgs: {}'.format(val_imgs.element_spec))\n",
    "print('specs of test_imgs: {}'.format(test_imgs.element_spec))"
   ]
  },
  {
   "cell_type": "code",
   "execution_count": 5,
   "metadata": {},
   "outputs": [],
   "source": [
    "# function to convert an individual record from the dataset into a serialized Example protobuf\n",
    "def tensor_to_Example_protobuf(record):\n",
    "    '''Convert a record to a serialized Example protobuf. The record is assumed to be a tuple with the first entry being a tensor and the second entry being its label\n",
    "    '''\n",
    "    \n",
    "    # convert the first entry of the record i.e. the image, to a Feature class\n",
    "    # tensors should be converted to binary strings first\n",
    "    bin_string = tf.io.serialize_tensor(record[0]).numpy()\n",
    "    # since it is a string we can only store it as a BytesList but NOT as a FloatList or Int64List\n",
    "    bytes_list = tf.train.BytesList(value = [bin_string]) # note that the value in BytesList has to be a list\n",
    "    # convert the above BytesList to a Feature\n",
    "    img = tf.train.Feature(bytes_list = bytes_list)\n",
    "    \n",
    "    # convert the second entry in the record i.e. the image-label to a Feature class\n",
    "    # note that label are integers, so can be stored as Int64List\n",
    "    int64_list = tf.train.Int64List(value = [record[1].numpy()])\n",
    "    lbl = tf.train.Feature(int64_list = int64_list)\n",
    "    \n",
    "    # now add img and lbl, as obtained above, to a dictionary \n",
    "    # then use it to create an instance of the Features class\n",
    "    feature = {'img': img, 'lbl': lbl}\n",
    "    features = tf.train.Features(feature = feature)\n",
    "    \n",
    "    # use the features object above, to create an Example\n",
    "    example = tf.train.Example(features = features)\n",
    "    \n",
    "    return example\n",
    "    "
   ]
  },
  {
   "cell_type": "code",
   "execution_count": 6,
   "metadata": {},
   "outputs": [],
   "source": [
    "# function to parse an Example protobuf or a serialized string obtained from it\n",
    "# if batch == True, then the input is assumed to be a batch rather than a single example \n",
    "def tensor_from_Example_protobuf(example, batch = False):\n",
    "    ''' function to parse a example protobuf generated from examples in fashion-MNIST dataset. The input can be an Example protobuf or a serialized string obtained from an Example protobuf The input to this function must be a serialized string '''\n",
    "    feature_description = {\n",
    "        'img': tf.io.FixedLenFeature([], tf.string, default_value=''),\n",
    "        'lbl': tf.io.FixedLenFeature([], tf.int64, default_value = 0)\n",
    "        }\n",
    "    \n",
    "    if batch:\n",
    "        parsed_examples = tf.io.parse_example(example, feature_description)\n",
    "        # parsed_examples['img'] is itelf a tensor whose entries are serialized strings corresponding to the images in the batch\n",
    "        # we therefore need to parse these strings back to tensors using tf.io.parse_tensor\n",
    "        # This can be applied to the elements of parsed_examples['imgs'] using tf.map_fn\n",
    "        imgs = tf.map_fn(lambda string: tf.io.parse_tensor(string, out_type = tf.uint8), \n",
    "                         parsed_examples['img'], \n",
    "                         dtype = tf.uint8) # since the type of output of the tf.map_fn is different from it's input type, we necessarily have to specify the dtype of the output\n",
    "        # Note that \"the parse_tensor function can't statically determine the shape of the parsed tensor\"\n",
    "        # this shape is needed as at the time of training the network otherwise it throws an error\n",
    "        # Since we already know the shape, i.e. (None, 28, 28) where None is for the batch-dim, we can\n",
    "        # explicitly specify this using tf.ensure_shape\n",
    "        # see the following link for a discussion of this issue and the answer by aaudiber\n",
    "        # https://github.com/tensorflow/tensorflow/issues/34989#issuecomment-566244812\n",
    "        imgs = tf.ensure_shape(imgs, (None, 28, 28))\n",
    "        lbls = tf.dtypes.cast(parsed_examples['lbl'], tf.uint8)\n",
    "        return imgs, lbls\n",
    "    \n",
    "    if type(example)== bytes:\n",
    "        parsed_example = tf.io.parse_single_example(example, feature_description)\n",
    "        img = tf.io.parse_tensor(parsed_example['img'].numpy(), out_type = tf.uint8)\n",
    "        lbl = tf.dtypes.cast(parsed_example['lbl'],  tf.uint8)\n",
    "    \n",
    "    elif str(type(example)) == \"<class 'tensorflow.core.example.example_pb2.Example'>\":\n",
    "        img = tf.io.parse_tensor(example.features.feature['img'].bytes_list.value[0], \n",
    "                                 out_type = tf.uint8)\n",
    "        lbl = tf.convert_to_tensor(example.features.feature['lbl'].int64_list.value[0],\n",
    "                                   dtype = tf.uint8)\n",
    "    else:\n",
    "        print('Error: The input is neither a serialized string nor an Example protobuf')\n",
    "        return\n",
    "    \n",
    "    return img, lbl"
   ]
  },
  {
   "cell_type": "markdown",
   "metadata": {},
   "source": [
    "### Test tensor_to_Example_protobuf and tensor_from_Example_protobuf"
   ]
  },
  {
   "cell_type": "code",
   "execution_count": 13,
   "metadata": {},
   "outputs": [],
   "source": [
    "# extract a sample record from train_imgs for testing purposes\n",
    "for item in train_imgs.take(1):\n",
    "    train_item = item"
   ]
  },
  {
   "cell_type": "code",
   "execution_count": 14,
   "metadata": {
    "scrolled": true
   },
   "outputs": [
    {
     "name": "stdout",
     "output_type": "stream",
     "text": [
      "Parsing Example protobuf\n",
      "image data was converted to Example and converted back faithfully: True\n",
      "label data was converted to Example and converted back faithfully: True\n",
      "Parsing serialized string\n",
      "image data was converted to Example and converted back faithfully: True\n",
      "label data was converted to Example and converted back faithfully: True\n"
     ]
    }
   ],
   "source": [
    "# convert the record to Example \n",
    "ex = tensor_to_Example_protobuf(train_item)\n",
    "\n",
    "# re-obtain the record from the Example protobuf and check its validity\n",
    "print('Parsing Example protobuf')\n",
    "img, lbl = tensor_from_Example_protobuf(ex)\n",
    "\n",
    "# check the validity of img, lbl\n",
    "print('image data was converted to Example and converted back faithfully: {}'.format(tf.math.reduce_all(img == train_item[0])))\n",
    "print('label data was converted to Example and converted back faithfully: {}'.format(tf.math.reduce_all(lbl == train_item[1])))\n",
    "\n",
    "print('Parsing serialized string')\n",
    "img, lbl = tensor_from_Example_protobuf(ex.SerializeToString())\n",
    "\n",
    "# check the validity of img, lbl\n",
    "print('image data was converted to Example and converted back faithfully: {}'.format(tf.math.reduce_all(img == train_item[0])))\n",
    "print('label data was converted to Example and converted back faithfully: {}'.format(tf.math.reduce_all(lbl == train_item[1])))\n"
   ]
  },
  {
   "cell_type": "markdown",
   "metadata": {},
   "source": [
    "### Suggested Improvements for storing images in TFRecord files"
   ]
  },
  {
   "cell_type": "markdown",
   "metadata": {},
   "source": [
    "Note that as explained in [this](https://medium.com/@prasad.pai/how-to-use-tfrecord-with-datasets-and-iterators-in-tensorflow-with-code-samples-ffee57d298af) post, converting the tensor/numpy-array representation of an image to an Example protobuf incurs a huge space in the memory leading to the resulting TFRecord files being much more bulky than the original image data. The reason essentially boils down to the fact that each element of the array is converted to it's own binary string. On the otherhand, this spatial overhead can be overcome by directly storing the image in its jpeg or png format by using [tf.io.encode_jpeg](https://www.tensorflow.org/api_docs/python/tf/io/encode_jpeg) (this is also aliased as tf.image.encode_jpeg) or  [tf.image.encode_png](https://www.tensorflow.org/api_docs/python/tf/image/encode_png) (this does NOT have an tf.io.encode_jpeg alias) respectively.  "
   ]
  },
  {
   "cell_type": "code",
   "execution_count": 46,
   "metadata": {},
   "outputs": [
    {
     "data": {
      "text/plain": [
       "TensorShape([28, 28])"
      ]
     },
     "execution_count": 46,
     "metadata": {},
     "output_type": "execute_result"
    }
   ],
   "source": [
    "im_lb = next(iter(train_imgs))\n",
    "im_lb[0].shape"
   ]
  },
  {
   "cell_type": "code",
   "execution_count": 55,
   "metadata": {},
   "outputs": [],
   "source": [
    "train_im_jpeg = tf.image.encode_jpeg(tf.expand_dims(im_lb[0], 2))\n",
    "train_im_png = tf.image.encode_png(tf.expand_dims(im_lb[0], 2))"
   ]
  },
  {
   "cell_type": "markdown",
   "metadata": {},
   "source": [
    "### Store data in TFRecord files"
   ]
  },
  {
   "cell_type": "markdown",
   "metadata": {},
   "source": [
    "#### Training set"
   ]
  },
  {
   "cell_type": "markdown",
   "metadata": {},
   "source": [
    "There are 50000 images in the training set. Let us divide them into 50 TFRecord files with each file containing serialized example protobufs for 1000 images."
   ]
  },
  {
   "cell_type": "code",
   "execution_count": 15,
   "metadata": {},
   "outputs": [],
   "source": [
    "# shuffle the training set\n",
    "seed = 42\n",
    "buffer_size = 20000\n",
    "train_shuffled = train_imgs.shuffle(buffer_size = buffer_size, seed = seed)\n",
    "train_itr = iter(train_shuffled)"
   ]
  },
  {
   "cell_type": "code",
   "execution_count": 16,
   "metadata": {
    "scrolled": false
   },
   "outputs": [
    {
     "name": "stdout",
     "output_type": "stream",
     "text": [
      "\n",
      "file_num: 0\n",
      "****************************************************************************************************\n",
      "file_num: 1\n",
      "****************************************************************************************************\n",
      "file_num: 2\n",
      "****************************************************************************************************\n",
      "file_num: 3\n",
      "****************************************************************************************************\n",
      "file_num: 4\n",
      "****************************************************************************************************\n",
      "file_num: 5\n",
      "****************************************************************************************************\n",
      "file_num: 6\n",
      "****************************************************************************************************\n",
      "file_num: 7\n",
      "****************************************************************************************************\n",
      "file_num: 8\n",
      "****************************************************************************************************\n",
      "file_num: 9\n",
      "****************************************************************************************************\n",
      "file_num: 10\n",
      "****************************************************************************************************\n",
      "file_num: 11\n",
      "****************************************************************************************************\n",
      "file_num: 12\n",
      "****************************************************************************************************\n",
      "file_num: 13\n",
      "****************************************************************************************************\n",
      "file_num: 14\n",
      "****************************************************************************************************\n",
      "file_num: 15\n",
      "****************************************************************************************************\n",
      "file_num: 16\n",
      "****************************************************************************************************\n",
      "file_num: 17\n",
      "****************************************************************************************************\n",
      "file_num: 18\n",
      "****************************************************************************************************\n",
      "file_num: 19\n",
      "****************************************************************************************************\n",
      "file_num: 20\n",
      "****************************************************************************************************\n",
      "file_num: 21\n",
      "****************************************************************************************************\n",
      "file_num: 22\n",
      "****************************************************************************************************\n",
      "file_num: 23\n",
      "****************************************************************************************************\n",
      "file_num: 24\n",
      "****************************************************************************************************\n",
      "file_num: 25\n",
      "****************************************************************************************************\n",
      "file_num: 26\n",
      "****************************************************************************************************\n",
      "file_num: 27\n",
      "****************************************************************************************************\n",
      "file_num: 28\n",
      "****************************************************************************************************\n",
      "file_num: 29\n",
      "****************************************************************************************************\n",
      "file_num: 30\n",
      "****************************************************************************************************\n",
      "file_num: 31\n",
      "****************************************************************************************************\n",
      "file_num: 32\n",
      "****************************************************************************************************\n",
      "file_num: 33\n",
      "****************************************************************************************************\n",
      "file_num: 34\n",
      "****************************************************************************************************\n",
      "file_num: 35\n",
      "****************************************************************************************************\n",
      "file_num: 36\n",
      "****************************************************************************************************\n",
      "file_num: 37\n",
      "****************************************************************************************************\n",
      "file_num: 38\n",
      "****************************************************************************************************\n",
      "file_num: 39\n",
      "****************************************************************************************************\n",
      "file_num: 40\n",
      "****************************************************************************************************\n",
      "file_num: 41\n",
      "****************************************************************************************************\n",
      "file_num: 42\n",
      "****************************************************************************************************\n",
      "file_num: 43\n",
      "****************************************************************************************************\n",
      "file_num: 44\n",
      "****************************************************************************************************\n",
      "file_num: 45\n",
      "****************************************************************************************************\n",
      "file_num: 46\n",
      "****************************************************************************************************\n",
      "file_num: 47\n",
      "****************************************************************************************************\n",
      "file_num: 48\n",
      "****************************************************************************************************\n",
      "file_num: 49\n",
      "****************************************************************************************************"
     ]
    }
   ],
   "source": [
    "train_filepaths = []\n",
    "compression = tf.io.TFRecordOptions(compression_type = 'GZIP')\n",
    "\n",
    "for file_num in range(50):\n",
    "    filename = 'fashion_MNIST_TFRecord/train_tfrecord_'+ str(file_num)+'.tfrecord'\n",
    "    train_filepaths.append(filename)\n",
    "    print('\\nfile_num: {}'.format(file_num))\n",
    "    with tf.io.TFRecordWriter(filename, compression) as f:\n",
    "        for item_num in range(1000):\n",
    "            train_item = next(train_itr)\n",
    "            serialized_example = to_Example_protobuf(train_item)\n",
    "            f.write(serialized_example.SerializeToString())\n",
    "            if item_num%10 ==0:\n",
    "                print('*', end = '')"
   ]
  },
  {
   "cell_type": "markdown",
   "metadata": {},
   "source": [
    "#### Validation set"
   ]
  },
  {
   "cell_type": "markdown",
   "metadata": {},
   "source": [
    "There are 10000 images in the validation set. We will store these in 10 TFRecord files, each containing serialized example protobufs for 1000 images. "
   ]
  },
  {
   "cell_type": "code",
   "execution_count": 17,
   "metadata": {},
   "outputs": [
    {
     "name": "stdout",
     "output_type": "stream",
     "text": [
      "\n",
      "file_num: 0\n",
      "****************************************************************************************************\n",
      "file_num: 1\n",
      "****************************************************************************************************\n",
      "file_num: 2\n",
      "****************************************************************************************************\n",
      "file_num: 3\n",
      "****************************************************************************************************\n",
      "file_num: 4\n",
      "****************************************************************************************************\n",
      "file_num: 5\n",
      "****************************************************************************************************\n",
      "file_num: 6\n",
      "****************************************************************************************************\n",
      "file_num: 7\n",
      "****************************************************************************************************\n",
      "file_num: 8\n",
      "****************************************************************************************************\n",
      "file_num: 9\n",
      "****************************************************************************************************"
     ]
    }
   ],
   "source": [
    "val_filepaths = []\n",
    "val_itr = iter(val_imgs)\n",
    "\n",
    "for file_num in range(10):\n",
    "    filename = 'fashion_MNIST_TFRecord/val_tfrecord_'+ str(file_num) + '.tfrecord'\n",
    "    val_filepaths.append(filename)\n",
    "    print('\\nfile_num: {}'.format(file_num))\n",
    "    with tf.io.TFRecordWriter(filename, compression) as f:\n",
    "        for item_num in range(1000):\n",
    "            val_item = next(val_itr)\n",
    "            serialized_example = to_Example_protobuf(val_item)\n",
    "            f.write(serialized_example.SerializeToString())\n",
    "            if item_num%10 == 0:\n",
    "                print('*', end = '')"
   ]
  },
  {
   "cell_type": "markdown",
   "metadata": {},
   "source": [
    "#### Test set"
   ]
  },
  {
   "cell_type": "markdown",
   "metadata": {},
   "source": [
    "The test set contains 10000 test images. We will create 10 TFRecord files for these, each storing the serialized example protobuf for 1000 images. "
   ]
  },
  {
   "cell_type": "code",
   "execution_count": 18,
   "metadata": {},
   "outputs": [
    {
     "name": "stdout",
     "output_type": "stream",
     "text": [
      "\n",
      "file_num: 0\n",
      "****************************************************************************************************\n",
      "file_num: 1\n",
      "****************************************************************************************************\n",
      "file_num: 2\n",
      "****************************************************************************************************\n",
      "file_num: 3\n",
      "****************************************************************************************************\n",
      "file_num: 4\n",
      "****************************************************************************************************\n",
      "file_num: 5\n",
      "****************************************************************************************************\n",
      "file_num: 6\n",
      "****************************************************************************************************\n",
      "file_num: 7\n",
      "****************************************************************************************************\n",
      "file_num: 8\n",
      "****************************************************************************************************\n",
      "file_num: 9\n",
      "****************************************************************************************************"
     ]
    }
   ],
   "source": [
    "test_filepaths = []\n",
    "test_itr = iter(test_imgs)\n",
    "\n",
    "for file_num in range(10):\n",
    "    filename = 'fashion_MNIST_TFRecord/test_tfrecord_' + str(file_num) + '.tfrecord'\n",
    "    test_filepaths.append(filename)\n",
    "    print('\\nfile_num: {}'.format(file_num))\n",
    "    with tf.io.TFRecordWriter(filename, compression) as f:\n",
    "        for item_num in range(1000):\n",
    "            test_item = next(test_itr)\n",
    "            serialized_example = to_Example_protobuf(test_item)\n",
    "            f.write(serialized_example.SerializeToString())\n",
    "            if item_num%10==0:\n",
    "                print('*', end = '')"
   ]
  },
  {
   "cell_type": "markdown",
   "metadata": {},
   "source": [
    "### Create a dataset from the saved TFRecord files "
   ]
  },
  {
   "cell_type": "code",
   "execution_count": 3,
   "metadata": {},
   "outputs": [],
   "source": [
    "import tensorflow as tf\n",
    "from tensorflow import keras \n",
    "import numpy as np\n",
    "import matplotlib.pyplot as plt"
   ]
  },
  {
   "cell_type": "code",
   "execution_count": 4,
   "metadata": {},
   "outputs": [],
   "source": [
    "# function to parse img_data from Example protobuf and normalize its max to 1\n",
    "def parse_and_normalize(img_batch):\n",
    "    parsed_batch = from_Example_protobuf(img_batch, batch = True)\n",
    "    \n",
    "    # normalize the images and add a channel dim. to the end \n",
    "    # Conv2d layers in keras need input_shape to include a channel dim (even for grayscale images)\n",
    "    \n",
    "    imgs = tf.expand_dims(tf.cast(parsed_batch[0], tf.float32)/255.0, 3)\n",
    "    \n",
    "    return imgs , parsed_batch[1]"
   ]
  },
  {
   "cell_type": "code",
   "execution_count": 8,
   "metadata": {},
   "outputs": [],
   "source": [
    "# function to return a dataset created from specified TFRecord files\n",
    "\n",
    "def create_dataset(filepaths, batch_size, num_parallel_reads, compression_type = 'GZIP', prefetch = 1):\n",
    "    # generically, tf.data.TFRecordDataset accepts a list of filepaths\n",
    "    # in order to specify files using glob patterns rather than a list of filepaths, we do the following\n",
    "    # use tf.data.TFRecordDataset.list_files() to create a filepath_dataset corresponding to a file pattern\n",
    "    # then pass this filepath_dataset to tf.data.TFRecordDataset\n",
    "    filepaths_dataset = tf.data.TFRecordDataset.list_files(filepaths)\n",
    "    dataset = tf.data.TFRecordDataset(filepaths_dataset, \n",
    "                                      compression_type = compression_type,\n",
    "                                      num_parallel_reads = num_parallel_reads).batch(batch_size)\n",
    "    parsed_dataset = dataset.map(parse_and_normalize).prefetch(prefetch)\n",
    "    \n",
    "    return parsed_dataset"
   ]
  },
  {
   "cell_type": "code",
   "execution_count": 9,
   "metadata": {},
   "outputs": [],
   "source": [
    "# training dataset\n",
    "train_batch_size = 5000\n",
    "train_num_parallel_reads = 5\n",
    "train_filepaths = 'fashion_MNIST_TFRecord/train_tfrecord_*.tfrecord'\n",
    "train_data = create_dataset(filepaths = train_filepaths, \n",
    "                            batch_size = train_batch_size, \n",
    "                            num_parallel_reads = train_num_parallel_reads)"
   ]
  },
  {
   "cell_type": "code",
   "execution_count": 10,
   "metadata": {},
   "outputs": [],
   "source": [
    "# validation dataset\n",
    "valid_batch_size = 5000\n",
    "valid_filepaths = \"fashion_MNIST_TFRecord/val_tfrecord_*.tfrecord\"\n",
    "valid_num_parallel_reads = 5\n",
    "valid_data = create_dataset(filepaths = valid_filepaths, \n",
    "                            batch_size = valid_batch_size, \n",
    "                            num_parallel_reads = valid_num_parallel_reads)"
   ]
  },
  {
   "cell_type": "markdown",
   "metadata": {},
   "source": [
    "### Save run logs for TensorBoard"
   ]
  },
  {
   "cell_type": "code",
   "execution_count": 11,
   "metadata": {},
   "outputs": [],
   "source": [
    "import os\n",
    "import time"
   ]
  },
  {
   "cell_type": "code",
   "execution_count": 12,
   "metadata": {},
   "outputs": [
    {
     "name": "stdout",
     "output_type": "stream",
     "text": [
      "/home/prarit/MachineLearningProjects/TensorFlowDataAPI/log_dir\n"
     ]
    }
   ],
   "source": [
    "log_dir = os.path.join(os.getcwd(), 'log_dir')\n",
    "print(log_dir)"
   ]
  },
  {
   "cell_type": "code",
   "execution_count": 13,
   "metadata": {},
   "outputs": [
    {
     "name": "stdout",
     "output_type": "stream",
     "text": [
      "/home/prarit/MachineLearningProjects/TensorFlowDataAPI/log_dir/run_2020_03_03_10_46_58\n"
     ]
    }
   ],
   "source": [
    "# https://www.programiz.com/python-programming/datetime/strftime\n",
    "run_id = time.strftime('run_%Y_%m_%d_%H_%M_%S')\n",
    "run_filename = os.path.join(log_dir, run_id)\n",
    "print(run_filename)"
   ]
  },
  {
   "cell_type": "markdown",
   "metadata": {},
   "source": [
    "### Define a CNN model "
   ]
  },
  {
   "cell_type": "code",
   "execution_count": 1,
   "metadata": {},
   "outputs": [],
   "source": [
    "from tensorflow.keras.models import Sequential\n",
    "from tensorflow.keras.layers import Conv2D\n",
    "from tensorflow.keras.layers import Flatten\n",
    "from tensorflow.keras.layers import Dense\n",
    "from tensorflow.keras import backend as K"
   ]
  },
  {
   "cell_type": "code",
   "execution_count": 2,
   "metadata": {},
   "outputs": [],
   "source": [
    "# function to define a sequential model with specified kernels for sequential layers\n",
    "# we assume the stride and dilation to be 1 in each layer for this model\n",
    "# we will also use 'same' padding in all layers to keep the size of the output same as that of the input in each Conv. layer\n",
    "# see the following discussion for difference between 'same' and 'valid' padding\n",
    "# https://stackoverflow.com/questions/37674306/what-is-the-difference-between-same-and-valid-padding-in-tf-nn-max-pool-of-t\n",
    "def build_model(kernel_list, input_shape):\n",
    "    '''\n",
    "    kernel_list: list of tuples of num_units, kernel sizes for the Conv. layers\n",
    "    input_shape: input shape of images, note that by default keras expects input_shape to have channels last\n",
    "    \n",
    "    '''\n",
    "    model = Sequential()\n",
    "    units, kernel_size = kernel_list[0]\n",
    "    conv2d = Conv2D(filters = units, kernel_size = kernel_size, \n",
    "                    input_shape = input_shape, padding = 'same', activation = 'relu')\n",
    "    model.add(conv2d)\n",
    "    \n",
    "    for units, kernel_size in kernel_list[1:]:\n",
    "        conv2d = Conv2D(filters = units, kernel_size = kernel_size, \n",
    "                        padding = 'same', activation = 'relu')\n",
    "        model.add(conv2d)\n",
    "    \n",
    "    model.add(Flatten())\n",
    "    \n",
    "    # classifier layer\n",
    "    hidden1 = Dense(units = 256, activation = 'relu')\n",
    "    model.add(hidden1)\n",
    "    \n",
    "    output = Dense(units = 10, activation = 'softmax')\n",
    "    model.add(output)\n",
    "    \n",
    "    return model"
   ]
  },
  {
   "cell_type": "code",
   "execution_count": 14,
   "metadata": {},
   "outputs": [
    {
     "name": "stdout",
     "output_type": "stream",
     "text": [
      "Model: \"sequential\"\n",
      "_________________________________________________________________\n",
      "Layer (type)                 Output Shape              Param #   \n",
      "=================================================================\n",
      "conv2d (Conv2D)              (None, 28, 28, 10)        100       \n",
      "_________________________________________________________________\n",
      "conv2d_1 (Conv2D)            (None, 28, 28, 10)        2510      \n",
      "_________________________________________________________________\n",
      "conv2d_2 (Conv2D)            (None, 28, 28, 10)        4910      \n",
      "_________________________________________________________________\n",
      "flatten (Flatten)            (None, 7840)              0         \n",
      "_________________________________________________________________\n",
      "dense (Dense)                (None, 256)               2007296   \n",
      "_________________________________________________________________\n",
      "dense_1 (Dense)              (None, 10)                2570      \n",
      "=================================================================\n",
      "Total params: 2,017,386\n",
      "Trainable params: 2,017,386\n",
      "Non-trainable params: 0\n",
      "_________________________________________________________________\n"
     ]
    }
   ],
   "source": [
    "K.clear_session()\n",
    "kernel_list = [(10, 3), (10, 5), (10, 7)]\n",
    "input_shape = (28,28,1)\n",
    "model = build_model(kernel_list, input_shape)\n",
    "model.summary()"
   ]
  },
  {
   "cell_type": "code",
   "execution_count": 15,
   "metadata": {},
   "outputs": [],
   "source": [
    "# compile the model\n",
    "loss = 'sparse_categorical_crossentropy'\n",
    "optimizer = 'adam'\n",
    "metrics = ['accuracy']\n",
    "model.compile(optimizer = optimizer, loss = loss, metrics = metrics)"
   ]
  },
  {
   "cell_type": "code",
   "execution_count": 16,
   "metadata": {},
   "outputs": [],
   "source": [
    "# callback for TensorBoard\n",
    "# check the following tutorial\n",
    "# https://www.tensorflow.org/tensorboard/get_started\n",
    "tensorboard_callback = keras.callbacks.TensorBoard(run_filename)"
   ]
  },
  {
   "cell_type": "code",
   "execution_count": 17,
   "metadata": {
    "scrolled": true
   },
   "outputs": [
    {
     "name": "stdout",
     "output_type": "stream",
     "text": [
      "Epoch 1/15\n",
      "10/10 [==============================] - 4s 424ms/step - loss: 1.4262 - accuracy: 0.5493 - val_loss: 1.0540 - val_accuracy: 0.6898\n",
      "Epoch 2/15\n",
      "10/10 [==============================] - 2s 200ms/step - loss: 0.8435 - accuracy: 0.7206 - val_loss: 0.7029 - val_accuracy: 0.7526\n",
      "Epoch 3/15\n",
      "10/10 [==============================] - 2s 200ms/step - loss: 0.6439 - accuracy: 0.7666 - val_loss: 0.5806 - val_accuracy: 0.7941\n",
      "Epoch 4/15\n",
      "10/10 [==============================] - 2s 221ms/step - loss: 0.5413 - accuracy: 0.8048 - val_loss: 0.5027 - val_accuracy: 0.8245\n",
      "Epoch 5/15\n",
      "10/10 [==============================] - 2s 215ms/step - loss: 0.4765 - accuracy: 0.8313 - val_loss: 0.4536 - val_accuracy: 0.8426\n",
      "Epoch 6/15\n",
      "10/10 [==============================] - 2s 232ms/step - loss: 0.4305 - accuracy: 0.8475 - val_loss: 0.4156 - val_accuracy: 0.8565\n",
      "Epoch 7/15\n",
      "10/10 [==============================] - 2s 230ms/step - loss: 0.3978 - accuracy: 0.8592 - val_loss: 0.3908 - val_accuracy: 0.8614\n",
      "Epoch 8/15\n",
      "10/10 [==============================] - 2s 217ms/step - loss: 0.3742 - accuracy: 0.8674 - val_loss: 0.3724 - val_accuracy: 0.8689\n",
      "Epoch 9/15\n",
      "10/10 [==============================] - 2s 237ms/step - loss: 0.3522 - accuracy: 0.8752 - val_loss: 0.3532 - val_accuracy: 0.8747\n",
      "Epoch 10/15\n",
      "10/10 [==============================] - 2s 204ms/step - loss: 0.3343 - accuracy: 0.8812 - val_loss: 0.3493 - val_accuracy: 0.8743\n",
      "Epoch 11/15\n",
      "10/10 [==============================] - 2s 217ms/step - loss: 0.3221 - accuracy: 0.8846 - val_loss: 0.3317 - val_accuracy: 0.8835\n",
      "Epoch 12/15\n",
      "10/10 [==============================] - 3s 276ms/step - loss: 0.3075 - accuracy: 0.8898 - val_loss: 0.3240 - val_accuracy: 0.8869\n",
      "Epoch 13/15\n",
      "10/10 [==============================] - 2s 213ms/step - loss: 0.3001 - accuracy: 0.8925 - val_loss: 0.3133 - val_accuracy: 0.8900\n",
      "Epoch 14/15\n",
      "10/10 [==============================] - 2s 207ms/step - loss: 0.2923 - accuracy: 0.8943 - val_loss: 0.3253 - val_accuracy: 0.8840\n",
      "Epoch 15/15\n",
      "10/10 [==============================] - 3s 265ms/step - loss: 0.2844 - accuracy: 0.8966 - val_loss: 0.3054 - val_accuracy: 0.8924\n"
     ]
    }
   ],
   "source": [
    "# I first ran this for 50 epochs and found that the training and validation losses start to diverge after about 10 epochs\n",
    "epochs = 15\n",
    "history = model.fit(train_data, epochs = epochs, \n",
    "                    validation_data = valid_data,\n",
    "                    callbacks = [tensorboard_callback])"
   ]
  },
  {
   "cell_type": "code",
   "execution_count": 18,
   "metadata": {},
   "outputs": [],
   "source": [
    "# model's predictions on the test set\n",
    "test_batch_size = 10000\n",
    "test_num_parallel_reads = 10\n",
    "test_filepaths = \"fashion_MNIST_TFRecord/test_tfrecord_*.tfrecord\"\n",
    "test_data = create_dataset(filepaths = test_filepaths, \n",
    "                            batch_size = test_batch_size, \n",
    "                            num_parallel_reads = test_num_parallel_reads)\n",
    "\n",
    "test_imgs, test_labels = next(iter(test_data))"
   ]
  },
  {
   "cell_type": "code",
   "execution_count": 19,
   "metadata": {},
   "outputs": [],
   "source": [
    "predictions = tf.math.argmax(model.predict(test_imgs), axis = 1 )"
   ]
  },
  {
   "cell_type": "code",
   "execution_count": 20,
   "metadata": {},
   "outputs": [
    {
     "data": {
      "text/plain": [
       "<tf.Tensor: shape=(10000,), dtype=uint8, numpy=array([0, 0, 1, ..., 2, 7, 9], dtype=uint8)>"
      ]
     },
     "execution_count": 20,
     "metadata": {},
     "output_type": "execute_result"
    }
   ],
   "source": [
    "test_labels"
   ]
  },
  {
   "cell_type": "code",
   "execution_count": 21,
   "metadata": {},
   "outputs": [
    {
     "data": {
      "text/plain": [
       "<tf.Tensor: shape=(10000,), dtype=bool, numpy=array([ True,  True,  True, ..., False,  True, False])>"
      ]
     },
     "execution_count": 21,
     "metadata": {},
     "output_type": "execute_result"
    }
   ],
   "source": [
    "check_predictions = tf.equal(tf.cast(predictions, dtype = tf.uint8), test_labels)\n",
    "check_predictions"
   ]
  },
  {
   "cell_type": "code",
   "execution_count": 22,
   "metadata": {},
   "outputs": [
    {
     "name": "stdout",
     "output_type": "stream",
     "text": [
      "0.8819\n"
     ]
    }
   ],
   "source": [
    "accuracy = tf.math.reduce_sum(tf.cast(check_predictions, dtype = tf.float32))/check_predictions.shape[0]\n",
    "print(accuracy.numpy())"
   ]
  },
  {
   "cell_type": "code",
   "execution_count": 23,
   "metadata": {},
   "outputs": [
    {
     "name": "stdout",
     "output_type": "stream",
     "text": [
      "      1/Unknown - 1s 989ms/step - loss: 0.3289 - accuracy: 0.8819"
     ]
    }
   ],
   "source": [
    "# Alternatively, we could have just used the model's evaluate method\n",
    "test_loss, test_accuracy = model.evaluate(test_data)"
   ]
  },
  {
   "cell_type": "code",
   "execution_count": 25,
   "metadata": {},
   "outputs": [],
   "source": [
    "import pandas as pd"
   ]
  },
  {
   "cell_type": "code",
   "execution_count": 26,
   "metadata": {},
   "outputs": [
    {
     "data": {
      "image/png": "[encoded data removed]",
      "text/plain": [
       "<Figure size 1080x360 with 1 Axes>"
      ]
     },
     "metadata": {
      "needs_background": "light"
     },
     "output_type": "display_data"
    }
   ],
   "source": [
    "# plots of accuracy and loss as function of time\n",
    "pd.DataFrame(history.history).plot(figsize = (15, 5))\n",
    "plt.grid(True)\n",
    "plt.show()"
   ]
  },
  {
   "cell_type": "markdown",
   "metadata": {},
   "source": [
    "### Profiling traces in Tensorboard"
   ]
  },
  {
   "cell_type": "code",
   "execution_count": 27,
   "metadata": {},
   "outputs": [
    {
     "data": {
      "text/html": [
       "\n",
       "      <iframe id=\"tensorboard-frame-f1ccc171a17efad1\" width=\"100%\" height=\"800\" frameborder=\"0\">\n",
       "      </iframe>\n",
       "      <script>\n",
       "        (function() {\n",
       "          const frame = document.getElementById(\"tensorboard-frame-f1ccc171a17efad1\");\n",
       "          const url = new URL(\"/\", window.location);\n",
       "          url.port = 7007;\n",
       "          frame.src = url;\n",
       "        })();\n",
       "      </script>\n",
       "  "
      ],
      "text/plain": [
       "<IPython.core.display.HTML object>"
      ]
     },
     "metadata": {},
     "output_type": "display_data"
    }
   ],
   "source": [
    "%load_ext tensorboard\n",
    "# https://github.com/tensorflow/tensorboard/issues/2689\n",
    "# https://stackoverflow.com/questions/59308924/how-to-profile-a-keras-predict-call-with-tensorboard\n",
    "# https://www.tensorflow.org/tensorboard/tensorboard_profiling_keras\n",
    "# https://devtalk.nvidia.com/default/topic/995815/cuda-setup-and-installation/path-amp-ld_library_path/\n",
    "# https://github.com/tensorflow/tensorflow/issues/35860\n",
    "# https://devtalk.nvidia.com/default/topic/1049421/visual-profiler-and-nvprof/nvprof-warning-the-user-does-not-have-permission-to-profile-on-the-target-device-/\n",
    "# make sure to not have any space aroung the = sign in the following\n",
    "# make sure to tunnel the intended port for tensorboard from \n",
    "# the remote server to the local server before running the following command\n",
    "%tensorboard --logdir=log_dir --port=7007"
   ]
  },
  {
   "cell_type": "code",
   "execution_count": null,
   "metadata": {},
   "outputs": [],
   "source": []
  }
 ],
 "metadata": {
  "kernelspec": {
   "display_name": "Python [conda env:tensorflow]",
   "language": "python",
   "name": "conda-env-tensorflow-py"
  },
  "language_info": {
   "codemirror_mode": {
    "name": "ipython",
    "version": 3
   },
   "file_extension": ".py",
   "mimetype": "text/x-python",
   "name": "python",
   "nbconvert_exporter": "python",
   "pygments_lexer": "ipython3",
   "version": "3.7.6"
  }
 },
 "nbformat": 4,
 "nbformat_minor": 2
}
